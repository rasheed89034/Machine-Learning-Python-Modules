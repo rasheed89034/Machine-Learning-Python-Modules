{
 "cells": [
  {
   "cell_type": "code",
   "execution_count": 1,
   "metadata": {},
   "outputs": [
    {
     "data": {
      "text/plain": [
       "array('i', [1, 2, 3, 4, 5, 6])"
      ]
     },
     "execution_count": 1,
     "metadata": {},
     "output_type": "execute_result"
    }
   ],
   "source": [
    "import array\n",
    "arr = array.array('i',[1,2,3,4,5,6])\n",
    "arr"
   ]
  },
  {
   "cell_type": "code",
   "execution_count": 2,
   "metadata": {},
   "outputs": [
    {
     "name": "stdout",
     "output_type": "stream",
     "text": [
      "4.0\n",
      "3.141592653589793\n"
     ]
    }
   ],
   "source": [
    "import math\n",
    "print(math.sqrt(16))\n",
    "print(math.pi)  \n"
   ]
  },
  {
   "cell_type": "code",
   "execution_count": 6,
   "metadata": {},
   "outputs": [
    {
     "name": "stdout",
     "output_type": "stream",
     "text": [
      "2\n",
      "banana\n",
      "Muhammad Ahmad\n"
     ]
    }
   ],
   "source": [
    "import random\n",
    "listOfNames = [\"Ali khan\" , \"Ahmad khan\", \"Muhammad Ahmad\" , \"Rasheed Ahmad\"]\n",
    "print(random.randint(1,10)) ## to access random numbers from the given range\n",
    "print(random.choice([\"aplle\",\"banana\",\"cherry\"])) ## to access random values from the given list\n",
    "print(random.choice(listOfNames))"
   ]
  },
  {
   "cell_type": "code",
   "execution_count": 7,
   "metadata": {},
   "outputs": [
    {
     "name": "stdout",
     "output_type": "stream",
     "text": [
      "/Users/interlink/Desktop/ML_PYTHON_01/modules\n"
     ]
    }
   ],
   "source": [
    "## OS library use for File and Directory Access\n",
    "import os\n",
    "print(os.getcwd())"
   ]
  },
  {
   "cell_type": "code",
   "execution_count": 11,
   "metadata": {},
   "outputs": [
    {
     "ename": "FileExistsError",
     "evalue": "[Errno 17] File exists: 'toTest_dir'",
     "output_type": "error",
     "traceback": [
      "\u001b[31m---------------------------------------------------------------------------\u001b[39m",
      "\u001b[31mFileExistsError\u001b[39m                           Traceback (most recent call last)",
      "\u001b[36mCell\u001b[39m\u001b[36m \u001b[39m\u001b[32mIn[11]\u001b[39m\u001b[32m, line 1\u001b[39m\n\u001b[32m----> \u001b[39m\u001b[32m1\u001b[39m \u001b[43mos\u001b[49m\u001b[43m.\u001b[49m\u001b[43mmkdir\u001b[49m\u001b[43m(\u001b[49m\u001b[33;43m\"\u001b[39;49m\u001b[33;43mtoTest_dir\u001b[39;49m\u001b[33;43m\"\u001b[39;49m\u001b[43m)\u001b[49m\n",
      "\u001b[31mFileExistsError\u001b[39m: [Errno 17] File exists: 'toTest_dir'"
     ]
    }
   ],
   "source": [
    "os.mkdir(\"toTest_dir\")"
   ]
  },
  {
   "cell_type": "code",
   "execution_count": 19,
   "metadata": {},
   "outputs": [],
   "source": [
    "## High level operation on file and collection of file\n",
    "## import shutil\n",
    "## shutil.copyfile(\"source.txt\", \"destination.txt\")\n"
   ]
  },
  {
   "cell_type": "code",
   "execution_count": 21,
   "metadata": {},
   "outputs": [
    {
     "data": {
      "text/plain": [
       "'destination.txt'"
      ]
     },
     "execution_count": 21,
     "metadata": {},
     "output_type": "execute_result"
    }
   ],
   "source": [
    "## import shutil library\n",
    "import shutil\n",
    "shutil.copyfile(\"sample.txt\" , \"destination.txt\") "
   ]
  },
  {
   "cell_type": "markdown",
   "metadata": {},
   "source": [
    "##### Data serialization, such as converting a dictionary into JSON, is important when working with APIs or databases. The json module provides dumps to convert a dictionary to a JSON string and loads to convert a JSON string back to a dictionary.\n",
    "\n"
   ]
  },
  {
   "cell_type": "code",
   "execution_count": null,
   "metadata": {},
   "outputs": [
    {
     "name": "stdout",
     "output_type": "stream",
     "text": [
      "{\"name\": \"Rasheed Ahmad\", \"age\": 20}\n",
      "<class 'str'>\n",
      "{'name': 'Rasheed Ahmad', 'age': 20}\n",
      "<class 'dict'>\n"
     ]
    }
   ],
   "source": [
    "## Data Serialization\n",
    "\n",
    "import json\n",
    "data = {\"name\" : \"Rasheed Ahmad\" , \"age\" : 20} ## this is actually a dictionary \n",
    "data_In_string = json.dumps(data) ## by using json.dumps we convert dictonary into string and mostly we use this in APIs. \n",
    "print(data_In_string)\n",
    "print(type(data_In_string))\n",
    "\n",
    "data_In_dictonary = json.loads(data_In_string) ## by using json.loads we again convert string date into dictonary.\n",
    "print(data_In_dictonary)\n",
    "print(type(data_In_dictonary))"
   ]
  },
  {
   "cell_type": "markdown",
   "metadata": {},
   "source": [
    "## Working with CSV Files\n",
    "##### The csv module is used for reading and writing CSV files. You can write rows to a CSV file and then read them back using the appropriate reader and writer functions."
   ]
  },
  {
   "cell_type": "code",
   "execution_count": 30,
   "metadata": {},
   "outputs": [
    {
     "name": "stdout",
     "output_type": "stream",
     "text": [
      "['name', 'age']\n",
      "['Rasheed Ahmad', '20']\n",
      "['Muhammad Bilal', '21']\n",
      "['Mauzzam Ali', '22']\n",
      "['Jamal Shah', '20']\n",
      "['Ahmad Ali', '26']\n"
     ]
    }
   ],
   "source": [
    "import csv\n",
    "with open('example2.csv',  'w', newline='') as file:\n",
    "    writer = csv.writer(file)\n",
    "    writer.writerow([\"name\",\"age\"])\n",
    "    writer.writerow([\"Rasheed Ahmad\" , 20])\n",
    "    writer.writerow([\"Muhammad Bilal\" , 21])\n",
    "    writer.writerow([\"Mauzzam Ali\" , 22])\n",
    "    writer.writerow([\"Jamal Shah\" , 20])\n",
    "    writer.writerow([\"Ahmad Ali\" , 26])\n",
    "\n",
    "with open('example2.csv' ,  'r') as file:\n",
    "    reader = csv.reader(file)\n",
    "    for row in reader:\n",
    "        print(row)"
   ]
  },
  {
   "cell_type": "code",
   "execution_count": 31,
   "metadata": {},
   "outputs": [
    {
     "name": "stdout",
     "output_type": "stream",
     "text": [
      "2025-08-07 21:39:33.755895\n",
      "2025-08-06 21:39:33.755895\n"
     ]
    }
   ],
   "source": [
    "from datetime import datetime , timedelta\n",
    "now = datetime.now()\n",
    "print(now)\n",
    "\n",
    "yesterday = now - timedelta(days = 1)\n",
    "print(yesterday)"
   ]
  },
  {
   "cell_type": "code",
   "execution_count": 32,
   "metadata": {},
   "outputs": [
    {
     "name": "stdout",
     "output_type": "stream",
     "text": [
      "1754584908.305836\n",
      "After 2 seconds\n"
     ]
    }
   ],
   "source": [
    "import time\n",
    "print(time.time())\n",
    "time.sleep(2)\n",
    "print(\"After 2 seconds\")"
   ]
  },
  {
   "cell_type": "code",
   "execution_count": 34,
   "metadata": {},
   "outputs": [
    {
     "name": "stdout",
     "output_type": "stream",
     "text": [
      "4\n"
     ]
    }
   ],
   "source": [
    "import re\n",
    "pattern = r'\\d+'\n",
    "text = \"There are 4 boys\"\n",
    "match = re.search(pattern,text)\n",
    "print(match.group())"
   ]
  }
 ],
 "metadata": {
  "kernelspec": {
   "display_name": "Python 3",
   "language": "python",
   "name": "python3"
  },
  "language_info": {
   "codemirror_mode": {
    "name": "ipython",
    "version": 3
   },
   "file_extension": ".py",
   "mimetype": "text/x-python",
   "name": "python",
   "nbconvert_exporter": "python",
   "pygments_lexer": "ipython3",
   "version": "3.12.0"
  }
 },
 "nbformat": 4,
 "nbformat_minor": 2
}
